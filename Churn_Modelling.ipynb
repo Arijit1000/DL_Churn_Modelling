{
  "nbformat": 4,
  "nbformat_minor": 0,
  "metadata": {
    "colab": {
      "name": "Churn_Modelling.ipynb",
      "provenance": [],
      "authorship_tag": "ABX9TyPomnXvfcmDp6w0UTJEmk51",
      "include_colab_link": true
    },
    "kernelspec": {
      "name": "python3",
      "display_name": "Python 3"
    },
    "language_info": {
      "name": "python"
    },
    "accelerator": "GPU"
  },
  "cells": [
    {
      "cell_type": "markdown",
      "metadata": {
        "id": "view-in-github",
        "colab_type": "text"
      },
      "source": [
        "<a href=\"https://colab.research.google.com/github/Arijit1000/DL_Churn_Modelling/blob/main/Churn_Modelling.ipynb\" target=\"_parent\"><img src=\"https://colab.research.google.com/assets/colab-badge.svg\" alt=\"Open In Colab\"/></a>"
      ]
    },
    {
      "cell_type": "code",
      "execution_count": 1,
      "metadata": {
        "colab": {
          "base_uri": "https://localhost:8080/"
        },
        "id": "IBJDuguAGCWY",
        "outputId": "a0b27f64-1bb7-4177-f76b-29dade206f08"
      },
      "outputs": [
        {
          "output_type": "stream",
          "name": "stdout",
          "text": [
            "Collecting tensorflow-gpu\n",
            "  Downloading tensorflow_gpu-2.8.0-cp37-cp37m-manylinux2010_x86_64.whl (497.5 MB)\n",
            "\u001b[K     |████████████████████████████████| 497.5 MB 23 kB/s \n",
            "\u001b[?25hRequirement already satisfied: numpy>=1.20 in /usr/local/lib/python3.7/dist-packages (from tensorflow-gpu) (1.21.6)\n",
            "Requirement already satisfied: libclang>=9.0.1 in /usr/local/lib/python3.7/dist-packages (from tensorflow-gpu) (14.0.1)\n",
            "Requirement already satisfied: tensorboard<2.9,>=2.8 in /usr/local/lib/python3.7/dist-packages (from tensorflow-gpu) (2.8.0)\n",
            "Collecting tf-estimator-nightly==2.8.0.dev2021122109\n",
            "  Downloading tf_estimator_nightly-2.8.0.dev2021122109-py2.py3-none-any.whl (462 kB)\n",
            "\u001b[K     |████████████████████████████████| 462 kB 59.6 MB/s \n",
            "\u001b[?25hRequirement already satisfied: termcolor>=1.1.0 in /usr/local/lib/python3.7/dist-packages (from tensorflow-gpu) (1.1.0)\n",
            "Requirement already satisfied: typing-extensions>=3.6.6 in /usr/local/lib/python3.7/dist-packages (from tensorflow-gpu) (4.2.0)\n",
            "Requirement already satisfied: flatbuffers>=1.12 in /usr/local/lib/python3.7/dist-packages (from tensorflow-gpu) (2.0)\n",
            "Requirement already satisfied: absl-py>=0.4.0 in /usr/local/lib/python3.7/dist-packages (from tensorflow-gpu) (1.0.0)\n",
            "Requirement already satisfied: setuptools in /usr/local/lib/python3.7/dist-packages (from tensorflow-gpu) (57.4.0)\n",
            "Requirement already satisfied: astunparse>=1.6.0 in /usr/local/lib/python3.7/dist-packages (from tensorflow-gpu) (1.6.3)\n",
            "Requirement already satisfied: keras<2.9,>=2.8.0rc0 in /usr/local/lib/python3.7/dist-packages (from tensorflow-gpu) (2.8.0)\n",
            "Requirement already satisfied: protobuf>=3.9.2 in /usr/local/lib/python3.7/dist-packages (from tensorflow-gpu) (3.17.3)\n",
            "Requirement already satisfied: h5py>=2.9.0 in /usr/local/lib/python3.7/dist-packages (from tensorflow-gpu) (3.1.0)\n",
            "Requirement already satisfied: google-pasta>=0.1.1 in /usr/local/lib/python3.7/dist-packages (from tensorflow-gpu) (0.2.0)\n",
            "Requirement already satisfied: six>=1.12.0 in /usr/local/lib/python3.7/dist-packages (from tensorflow-gpu) (1.15.0)\n",
            "Requirement already satisfied: tensorflow-io-gcs-filesystem>=0.23.1 in /usr/local/lib/python3.7/dist-packages (from tensorflow-gpu) (0.25.0)\n",
            "Requirement already satisfied: gast>=0.2.1 in /usr/local/lib/python3.7/dist-packages (from tensorflow-gpu) (0.5.3)\n",
            "Requirement already satisfied: keras-preprocessing>=1.1.1 in /usr/local/lib/python3.7/dist-packages (from tensorflow-gpu) (1.1.2)\n",
            "Requirement already satisfied: grpcio<2.0,>=1.24.3 in /usr/local/lib/python3.7/dist-packages (from tensorflow-gpu) (1.44.0)\n",
            "Requirement already satisfied: opt-einsum>=2.3.2 in /usr/local/lib/python3.7/dist-packages (from tensorflow-gpu) (3.3.0)\n",
            "Requirement already satisfied: wrapt>=1.11.0 in /usr/local/lib/python3.7/dist-packages (from tensorflow-gpu) (1.14.0)\n",
            "Requirement already satisfied: wheel<1.0,>=0.23.0 in /usr/local/lib/python3.7/dist-packages (from astunparse>=1.6.0->tensorflow-gpu) (0.37.1)\n",
            "Requirement already satisfied: cached-property in /usr/local/lib/python3.7/dist-packages (from h5py>=2.9.0->tensorflow-gpu) (1.5.2)\n",
            "Requirement already satisfied: werkzeug>=0.11.15 in /usr/local/lib/python3.7/dist-packages (from tensorboard<2.9,>=2.8->tensorflow-gpu) (1.0.1)\n",
            "Requirement already satisfied: markdown>=2.6.8 in /usr/local/lib/python3.7/dist-packages (from tensorboard<2.9,>=2.8->tensorflow-gpu) (3.3.6)\n",
            "Requirement already satisfied: requests<3,>=2.21.0 in /usr/local/lib/python3.7/dist-packages (from tensorboard<2.9,>=2.8->tensorflow-gpu) (2.23.0)\n",
            "Requirement already satisfied: tensorboard-plugin-wit>=1.6.0 in /usr/local/lib/python3.7/dist-packages (from tensorboard<2.9,>=2.8->tensorflow-gpu) (1.8.1)\n",
            "Requirement already satisfied: google-auth<3,>=1.6.3 in /usr/local/lib/python3.7/dist-packages (from tensorboard<2.9,>=2.8->tensorflow-gpu) (1.35.0)\n",
            "Requirement already satisfied: google-auth-oauthlib<0.5,>=0.4.1 in /usr/local/lib/python3.7/dist-packages (from tensorboard<2.9,>=2.8->tensorflow-gpu) (0.4.6)\n",
            "Requirement already satisfied: tensorboard-data-server<0.7.0,>=0.6.0 in /usr/local/lib/python3.7/dist-packages (from tensorboard<2.9,>=2.8->tensorflow-gpu) (0.6.1)\n",
            "Requirement already satisfied: pyasn1-modules>=0.2.1 in /usr/local/lib/python3.7/dist-packages (from google-auth<3,>=1.6.3->tensorboard<2.9,>=2.8->tensorflow-gpu) (0.2.8)\n",
            "Requirement already satisfied: cachetools<5.0,>=2.0.0 in /usr/local/lib/python3.7/dist-packages (from google-auth<3,>=1.6.3->tensorboard<2.9,>=2.8->tensorflow-gpu) (4.2.4)\n",
            "Requirement already satisfied: rsa<5,>=3.1.4 in /usr/local/lib/python3.7/dist-packages (from google-auth<3,>=1.6.3->tensorboard<2.9,>=2.8->tensorflow-gpu) (4.8)\n",
            "Requirement already satisfied: requests-oauthlib>=0.7.0 in /usr/local/lib/python3.7/dist-packages (from google-auth-oauthlib<0.5,>=0.4.1->tensorboard<2.9,>=2.8->tensorflow-gpu) (1.3.1)\n",
            "Requirement already satisfied: importlib-metadata>=4.4 in /usr/local/lib/python3.7/dist-packages (from markdown>=2.6.8->tensorboard<2.9,>=2.8->tensorflow-gpu) (4.11.3)\n",
            "Requirement already satisfied: zipp>=0.5 in /usr/local/lib/python3.7/dist-packages (from importlib-metadata>=4.4->markdown>=2.6.8->tensorboard<2.9,>=2.8->tensorflow-gpu) (3.8.0)\n",
            "Requirement already satisfied: pyasn1<0.5.0,>=0.4.6 in /usr/local/lib/python3.7/dist-packages (from pyasn1-modules>=0.2.1->google-auth<3,>=1.6.3->tensorboard<2.9,>=2.8->tensorflow-gpu) (0.4.8)\n",
            "Requirement already satisfied: chardet<4,>=3.0.2 in /usr/local/lib/python3.7/dist-packages (from requests<3,>=2.21.0->tensorboard<2.9,>=2.8->tensorflow-gpu) (3.0.4)\n",
            "Requirement already satisfied: idna<3,>=2.5 in /usr/local/lib/python3.7/dist-packages (from requests<3,>=2.21.0->tensorboard<2.9,>=2.8->tensorflow-gpu) (2.10)\n",
            "Requirement already satisfied: urllib3!=1.25.0,!=1.25.1,<1.26,>=1.21.1 in /usr/local/lib/python3.7/dist-packages (from requests<3,>=2.21.0->tensorboard<2.9,>=2.8->tensorflow-gpu) (1.24.3)\n",
            "Requirement already satisfied: certifi>=2017.4.17 in /usr/local/lib/python3.7/dist-packages (from requests<3,>=2.21.0->tensorboard<2.9,>=2.8->tensorflow-gpu) (2021.10.8)\n",
            "Requirement already satisfied: oauthlib>=3.0.0 in /usr/local/lib/python3.7/dist-packages (from requests-oauthlib>=0.7.0->google-auth-oauthlib<0.5,>=0.4.1->tensorboard<2.9,>=2.8->tensorflow-gpu) (3.2.0)\n",
            "Installing collected packages: tf-estimator-nightly, tensorflow-gpu\n",
            "Successfully installed tensorflow-gpu-2.8.0 tf-estimator-nightly-2.8.0.dev2021122109\n"
          ]
        }
      ],
      "source": [
        "!pip install tensorflow-gpu"
      ]
    },
    {
      "cell_type": "code",
      "source": [
        "import tensorflow as tf"
      ],
      "metadata": {
        "id": "AwzjCPYjGRxt"
      },
      "execution_count": 2,
      "outputs": []
    },
    {
      "cell_type": "code",
      "source": [
        "print(tf.__version__)"
      ],
      "metadata": {
        "colab": {
          "base_uri": "https://localhost:8080/"
        },
        "id": "cOLexSsAGgLy",
        "outputId": "b6e234a7-67f2-4657-e690-dfd16257a441"
      },
      "execution_count": 3,
      "outputs": [
        {
          "output_type": "stream",
          "name": "stdout",
          "text": [
            "2.8.0\n"
          ]
        }
      ]
    },
    {
      "cell_type": "code",
      "source": [
        "# Importing the libraries\n",
        "import numpy as np\n",
        "import matplotlib.pyplot as plt\n",
        "import pandas as pd"
      ],
      "metadata": {
        "id": "sPQKSX59GhYG"
      },
      "execution_count": 4,
      "outputs": []
    },
    {
      "cell_type": "code",
      "source": [
        "# Importing the dataset\n",
        "dataset = pd.read_csv('Churn_Modelling.csv')\n",
        "X = dataset.iloc[:, 3:13]\n",
        "y = dataset.iloc[:, 13]"
      ],
      "metadata": {
        "id": "GZGsjnRaGkEQ"
      },
      "execution_count": 5,
      "outputs": []
    },
    {
      "cell_type": "code",
      "source": [
        "#Create dummy variables\n",
        "geography=pd.get_dummies(X[\"Geography\"],drop_first=True)\n",
        "gender=pd.get_dummies(X['Gender'],drop_first=True)"
      ],
      "metadata": {
        "id": "V4blFzJOGmeO"
      },
      "execution_count": 6,
      "outputs": []
    },
    {
      "cell_type": "code",
      "source": [
        "## Concatenate the Data Frames\n",
        "\n",
        "X=pd.concat([X,geography,gender],axis=1)\n",
        "\n",
        "## Drop Unnecessary columns\n",
        "X=X.drop(['Geography','Gender'],axis=1)\n",
        "\n",
        "# Splitting the dataset into the Training set and Test set\n",
        "from sklearn.model_selection import train_test_split\n",
        "X_train, X_test, y_train, y_test = train_test_split(X, y, test_size = 0.2, random_state = 0)"
      ],
      "metadata": {
        "id": "N0R3fcSGGpdl"
      },
      "execution_count": 7,
      "outputs": []
    },
    {
      "cell_type": "code",
      "source": [
        "# Feature Scaling\n",
        "from sklearn.preprocessing import StandardScaler\n",
        "sc = StandardScaler()\n",
        "X_train = sc.fit_transform(X_train)\n",
        "X_test = sc.transform(X_test)\n"
      ],
      "metadata": {
        "id": "E9xqzhC_G0jj"
      },
      "execution_count": 8,
      "outputs": []
    },
    {
      "cell_type": "code",
      "source": [
        "# Part 2 - Now let's make the ANN!"
      ],
      "metadata": {
        "id": "nAzgH53yG3UL"
      },
      "execution_count": 9,
      "outputs": []
    },
    {
      "cell_type": "code",
      "source": [
        "from tensorflow.keras.models import Sequential\n",
        "from tensorflow.keras.layers import Dense\n",
        "from tensorflow.keras.layers import LeakyReLU,PReLU,ELU\n",
        "from tensorflow.keras.layers import Dropout\n"
      ],
      "metadata": {
        "id": "1BHIQrKpG7L-"
      },
      "execution_count": 10,
      "outputs": []
    },
    {
      "cell_type": "code",
      "source": [
        "# Initialising the ANN\n",
        "classifier = Sequential()"
      ],
      "metadata": {
        "id": "vDfUKf6XG-HK"
      },
      "execution_count": 11,
      "outputs": []
    },
    {
      "cell_type": "code",
      "source": [
        "# Adding the input layer and the first hidden layer\n",
        "classifier.add(Dense(units=11,activation='relu'))"
      ],
      "metadata": {
        "id": "wHw_P1aUHDhK"
      },
      "execution_count": 12,
      "outputs": []
    },
    {
      "cell_type": "code",
      "source": [
        "# Adding the input layer and the first hidden layer\n",
        "classifier.add(Dense(units=6,activation='relu'))"
      ],
      "metadata": {
        "id": "KgtUpkMgHGam"
      },
      "execution_count": 13,
      "outputs": []
    },
    {
      "cell_type": "code",
      "source": [
        "# Adding the input layer and the first hidden layer\n",
        "classifier.add(Dense(units=1,activation='relu'))"
      ],
      "metadata": {
        "id": "CpVGSArTHJOR"
      },
      "execution_count": 14,
      "outputs": []
    },
    {
      "cell_type": "code",
      "source": [
        "classifier.compile(optimizer='adam',loss='binary_crossentropy',metrics=['accuracy'])"
      ],
      "metadata": {
        "id": "oqU5tU3JHMFG"
      },
      "execution_count": 15,
      "outputs": []
    },
    {
      "cell_type": "code",
      "source": [
        "model_history=classifier.fit(X_train,y_train,validation_split=0.33,batch_size=10,epochs=50)"
      ],
      "metadata": {
        "colab": {
          "base_uri": "https://localhost:8080/"
        },
        "id": "DOJ3jkMYHOtk",
        "outputId": "8f523868-9a40-457e-dc91-662db035448d"
      },
      "execution_count": 16,
      "outputs": [
        {
          "output_type": "stream",
          "name": "stdout",
          "text": [
            "Epoch 1/50\n",
            "536/536 [==============================] - 5s 4ms/step - loss: 0.7893 - accuracy: 0.7677 - val_loss: 0.5472 - val_accuracy: 0.7967\n",
            "Epoch 2/50\n",
            "536/536 [==============================] - 2s 4ms/step - loss: 0.5001 - accuracy: 0.7970 - val_loss: 0.4744 - val_accuracy: 0.8023\n",
            "Epoch 3/50\n",
            "536/536 [==============================] - 2s 4ms/step - loss: 0.4559 - accuracy: 0.8035 - val_loss: 0.4578 - val_accuracy: 0.8035\n",
            "Epoch 4/50\n",
            "536/536 [==============================] - 2s 4ms/step - loss: 0.4362 - accuracy: 0.8104 - val_loss: 0.4477 - val_accuracy: 0.8069\n",
            "Epoch 5/50\n",
            "536/536 [==============================] - 2s 4ms/step - loss: 0.4248 - accuracy: 0.8143 - val_loss: 0.4527 - val_accuracy: 0.8061\n",
            "Epoch 6/50\n",
            "536/536 [==============================] - 2s 4ms/step - loss: 0.4274 - accuracy: 0.8194 - val_loss: 0.4402 - val_accuracy: 0.8118\n",
            "Epoch 7/50\n",
            "536/536 [==============================] - 2s 4ms/step - loss: 0.4139 - accuracy: 0.8270 - val_loss: 0.4226 - val_accuracy: 0.8126\n",
            "Epoch 8/50\n",
            "536/536 [==============================] - 2s 4ms/step - loss: 0.4029 - accuracy: 0.8322 - val_loss: 0.4176 - val_accuracy: 0.8236\n",
            "Epoch 9/50\n",
            "536/536 [==============================] - 2s 4ms/step - loss: 0.3983 - accuracy: 0.8347 - val_loss: 0.4243 - val_accuracy: 0.8281\n",
            "Epoch 10/50\n",
            "536/536 [==============================] - 2s 4ms/step - loss: 0.3907 - accuracy: 0.8410 - val_loss: 0.4291 - val_accuracy: 0.8323\n",
            "Epoch 11/50\n",
            "536/536 [==============================] - 2s 4ms/step - loss: 0.3844 - accuracy: 0.8453 - val_loss: 0.4119 - val_accuracy: 0.8330\n",
            "Epoch 12/50\n",
            "536/536 [==============================] - 2s 4ms/step - loss: 0.3816 - accuracy: 0.8451 - val_loss: 0.4094 - val_accuracy: 0.8421\n",
            "Epoch 13/50\n",
            "536/536 [==============================] - 2s 4ms/step - loss: 0.3764 - accuracy: 0.8496 - val_loss: 0.4334 - val_accuracy: 0.8413\n",
            "Epoch 14/50\n",
            "536/536 [==============================] - 2s 4ms/step - loss: 0.3701 - accuracy: 0.8490 - val_loss: 0.4168 - val_accuracy: 0.8410\n",
            "Epoch 15/50\n",
            "536/536 [==============================] - 2s 4ms/step - loss: 0.3633 - accuracy: 0.8513 - val_loss: 0.4235 - val_accuracy: 0.8395\n",
            "Epoch 16/50\n",
            "536/536 [==============================] - 2s 4ms/step - loss: 0.3609 - accuracy: 0.8530 - val_loss: 0.4167 - val_accuracy: 0.8444\n",
            "Epoch 17/50\n",
            "536/536 [==============================] - 2s 4ms/step - loss: 0.3580 - accuracy: 0.8539 - val_loss: 0.4359 - val_accuracy: 0.8429\n",
            "Epoch 18/50\n",
            "536/536 [==============================] - 2s 4ms/step - loss: 0.3588 - accuracy: 0.8526 - val_loss: 0.4111 - val_accuracy: 0.8436\n",
            "Epoch 19/50\n",
            "536/536 [==============================] - 2s 4ms/step - loss: 0.3582 - accuracy: 0.8518 - val_loss: 0.4306 - val_accuracy: 0.8421\n",
            "Epoch 20/50\n",
            "536/536 [==============================] - 2s 4ms/step - loss: 0.3567 - accuracy: 0.8548 - val_loss: 0.4230 - val_accuracy: 0.8440\n",
            "Epoch 21/50\n",
            "536/536 [==============================] - 2s 4ms/step - loss: 0.3528 - accuracy: 0.8563 - val_loss: 0.4098 - val_accuracy: 0.8478\n",
            "Epoch 22/50\n",
            "536/536 [==============================] - 2s 4ms/step - loss: 0.3504 - accuracy: 0.8561 - val_loss: 0.4136 - val_accuracy: 0.8474\n",
            "Epoch 23/50\n",
            "536/536 [==============================] - 2s 4ms/step - loss: 0.3497 - accuracy: 0.8580 - val_loss: 0.4129 - val_accuracy: 0.8501\n",
            "Epoch 24/50\n",
            "536/536 [==============================] - 2s 4ms/step - loss: 0.3419 - accuracy: 0.8587 - val_loss: 0.3819 - val_accuracy: 0.8436\n",
            "Epoch 25/50\n",
            "536/536 [==============================] - 2s 4ms/step - loss: 0.3447 - accuracy: 0.8571 - val_loss: 0.3932 - val_accuracy: 0.8417\n",
            "Epoch 26/50\n",
            "536/536 [==============================] - 2s 4ms/step - loss: 0.3440 - accuracy: 0.8623 - val_loss: 0.4180 - val_accuracy: 0.8417\n",
            "Epoch 27/50\n",
            "536/536 [==============================] - 2s 4ms/step - loss: 0.3382 - accuracy: 0.8580 - val_loss: 0.4273 - val_accuracy: 0.8470\n",
            "Epoch 28/50\n",
            "536/536 [==============================] - 2s 4ms/step - loss: 0.3388 - accuracy: 0.8621 - val_loss: 0.4100 - val_accuracy: 0.8459\n",
            "Epoch 29/50\n",
            "536/536 [==============================] - 2s 4ms/step - loss: 0.3390 - accuracy: 0.8617 - val_loss: 0.4381 - val_accuracy: 0.8497\n",
            "Epoch 30/50\n",
            "536/536 [==============================] - 2s 4ms/step - loss: 0.3386 - accuracy: 0.8615 - val_loss: 0.3921 - val_accuracy: 0.8482\n",
            "Epoch 31/50\n",
            "536/536 [==============================] - 2s 4ms/step - loss: 0.3417 - accuracy: 0.8643 - val_loss: 0.3956 - val_accuracy: 0.8463\n",
            "Epoch 32/50\n",
            "536/536 [==============================] - 2s 4ms/step - loss: 0.3376 - accuracy: 0.8632 - val_loss: 0.4273 - val_accuracy: 0.8504\n",
            "Epoch 33/50\n",
            "536/536 [==============================] - 2s 4ms/step - loss: 0.3414 - accuracy: 0.8602 - val_loss: 0.4252 - val_accuracy: 0.8440\n",
            "Epoch 34/50\n",
            "536/536 [==============================] - 2s 4ms/step - loss: 0.3425 - accuracy: 0.8625 - val_loss: 0.4214 - val_accuracy: 0.8501\n",
            "Epoch 35/50\n",
            "536/536 [==============================] - 2s 4ms/step - loss: 0.3345 - accuracy: 0.8615 - val_loss: 0.4303 - val_accuracy: 0.8482\n",
            "Epoch 36/50\n",
            "536/536 [==============================] - 2s 4ms/step - loss: 0.3345 - accuracy: 0.8615 - val_loss: 0.3960 - val_accuracy: 0.8489\n",
            "Epoch 37/50\n",
            "536/536 [==============================] - 2s 4ms/step - loss: 0.3323 - accuracy: 0.8632 - val_loss: 0.4260 - val_accuracy: 0.8470\n",
            "Epoch 38/50\n",
            "536/536 [==============================] - 2s 4ms/step - loss: 0.3309 - accuracy: 0.8643 - val_loss: 0.3917 - val_accuracy: 0.8516\n",
            "Epoch 39/50\n",
            "536/536 [==============================] - 2s 4ms/step - loss: 0.3301 - accuracy: 0.8636 - val_loss: 0.4194 - val_accuracy: 0.8501\n",
            "Epoch 40/50\n",
            "536/536 [==============================] - 2s 4ms/step - loss: 0.3305 - accuracy: 0.8660 - val_loss: 0.3937 - val_accuracy: 0.8425\n",
            "Epoch 41/50\n",
            "536/536 [==============================] - 2s 4ms/step - loss: 0.3372 - accuracy: 0.8662 - val_loss: 0.4107 - val_accuracy: 0.8482\n",
            "Epoch 42/50\n",
            "536/536 [==============================] - 2s 4ms/step - loss: 0.3302 - accuracy: 0.8660 - val_loss: 0.4105 - val_accuracy: 0.8531\n",
            "Epoch 43/50\n",
            "536/536 [==============================] - 2s 4ms/step - loss: 0.3346 - accuracy: 0.8662 - val_loss: 0.4135 - val_accuracy: 0.8478\n",
            "Epoch 44/50\n",
            "536/536 [==============================] - 2s 4ms/step - loss: 0.3266 - accuracy: 0.8658 - val_loss: 0.4465 - val_accuracy: 0.8482\n",
            "Epoch 45/50\n",
            "536/536 [==============================] - 2s 4ms/step - loss: 0.3269 - accuracy: 0.8658 - val_loss: 0.4173 - val_accuracy: 0.8493\n",
            "Epoch 46/50\n",
            "536/536 [==============================] - 2s 4ms/step - loss: 0.3269 - accuracy: 0.8664 - val_loss: 0.4313 - val_accuracy: 0.8508\n",
            "Epoch 47/50\n",
            "536/536 [==============================] - 2s 4ms/step - loss: 0.3267 - accuracy: 0.8653 - val_loss: 0.4162 - val_accuracy: 0.8485\n",
            "Epoch 48/50\n",
            "536/536 [==============================] - 2s 4ms/step - loss: 0.3250 - accuracy: 0.8656 - val_loss: 0.4501 - val_accuracy: 0.8493\n",
            "Epoch 49/50\n",
            "536/536 [==============================] - 2s 4ms/step - loss: 0.3257 - accuracy: 0.8660 - val_loss: 0.4142 - val_accuracy: 0.8497\n",
            "Epoch 50/50\n",
            "536/536 [==============================] - 2s 4ms/step - loss: 0.3253 - accuracy: 0.8671 - val_loss: 0.4277 - val_accuracy: 0.8485\n"
          ]
        }
      ]
    },
    {
      "cell_type": "code",
      "source": [
        "# list all data in history\n",
        "\n",
        "print(model_history.history.keys())"
      ],
      "metadata": {
        "colab": {
          "base_uri": "https://localhost:8080/"
        },
        "id": "P0Nbiu3AHRUm",
        "outputId": "aeb1fd56-85b4-4fd1-e6f1-1c73f8c8be9f"
      },
      "execution_count": 17,
      "outputs": [
        {
          "output_type": "stream",
          "name": "stdout",
          "text": [
            "dict_keys(['loss', 'accuracy', 'val_loss', 'val_accuracy'])\n"
          ]
        }
      ]
    },
    {
      "cell_type": "code",
      "source": [
        "# summarize history for accuracy\n",
        "plt.plot(model_history.history['accuracy'])\n",
        "plt.plot(model_history.history['val_accuracy'])\n",
        "plt.title('model accuracy')\n",
        "plt.ylabel('accuracy')\n",
        "plt.xlabel('epoch')\n",
        "plt.legend(['train', 'test'], loc='upper left')\n",
        "plt.show()"
      ],
      "metadata": {
        "colab": {
          "base_uri": "https://localhost:8080/",
          "height": 295
        },
        "id": "5QqbUTRtIDsS",
        "outputId": "ffce32f5-5795-42a8-ade1-b540833ed93d"
      },
      "execution_count": 18,
      "outputs": [
        {
          "output_type": "display_data",
          "data": {
            "text/plain": [
              "<Figure size 432x288 with 1 Axes>"
            ],
            "image/png": "[encoded data removed]"
          },
          "metadata": {
            "needs_background": "light"
          }
        }
      ]
    },
    {
      "cell_type": "code",
      "source": [
        "# summarize history for loss\n",
        "plt.plot(model_history.history['loss'])\n",
        "plt.plot(model_history.history['val_loss'])\n",
        "plt.title('model loss')\n",
        "plt.ylabel('loss')\n",
        "plt.xlabel('epoch')\n",
        "plt.legend(['train', 'test'], loc='upper left')\n",
        "plt.show()"
      ],
      "metadata": {
        "colab": {
          "base_uri": "https://localhost:8080/",
          "height": 295
        },
        "id": "PPhp0vDxIHrD",
        "outputId": "a962f2b9-edc7-4e99-b181-b27a4131fb48"
      },
      "execution_count": 19,
      "outputs": [
        {
          "output_type": "display_data",
          "data": {
            "text/plain": [
              "<Figure size 432x288 with 1 Axes>"
            ],
            "image/png": "[encoded data removed]"
          },
          "metadata": {
            "needs_background": "light"
          }
        }
      ]
    },
    {
      "cell_type": "code",
      "source": [
        "# Part 3 - Making the predictions and evaluating the model\n",
        "\n",
        "# Predicting the Test set results\n",
        "y_pred = classifier.predict(X_test)\n",
        "y_pred = (y_pred > 0.5)"
      ],
      "metadata": {
        "id": "qPxj5sU-IKji"
      },
      "execution_count": 20,
      "outputs": []
    },
    {
      "cell_type": "code",
      "source": [
        "# Making the Confusion Matrix\n",
        "from sklearn.metrics import confusion_matrix\n",
        "cm = confusion_matrix(y_test, y_pred)\n",
        "cm"
      ],
      "metadata": {
        "colab": {
          "base_uri": "https://localhost:8080/"
        },
        "id": "vrVSmy6YINp7",
        "outputId": "59a952d4-5aa8-4bda-ca77-b80c2c061aa8"
      },
      "execution_count": 21,
      "outputs": [
        {
          "output_type": "execute_result",
          "data": {
            "text/plain": [
              "array([[1496,   99],\n",
              "       [ 189,  216]])"
            ]
          },
          "metadata": {},
          "execution_count": 21
        }
      ]
    },
    {
      "cell_type": "code",
      "source": [
        "# Calculate the Accuracy\n",
        "from sklearn.metrics import accuracy_score\n",
        "score=accuracy_score(y_pred,y_test)"
      ],
      "metadata": {
        "id": "h-3TwkTfIQQv"
      },
      "execution_count": 22,
      "outputs": []
    },
    {
      "cell_type": "code",
      "source": [
        "score"
      ],
      "metadata": {
        "colab": {
          "base_uri": "https://localhost:8080/"
        },
        "id": "Pw_nRvZYITCg",
        "outputId": "6c7c3ff3-1ff8-4d44-9220-10d82390f71f"
      },
      "execution_count": 23,
      "outputs": [
        {
          "output_type": "execute_result",
          "data": {
            "text/plain": [
              "0.856"
            ]
          },
          "metadata": {},
          "execution_count": 23
        }
      ]
    },
    {
      "cell_type": "code",
      "source": [
        "score*100"
      ],
      "metadata": {
        "colab": {
          "base_uri": "https://localhost:8080/"
        },
        "id": "Q_trECIGIT65",
        "outputId": "ad3402e3-9ef7-450a-fed7-649891651bca"
      },
      "execution_count": 24,
      "outputs": [
        {
          "output_type": "execute_result",
          "data": {
            "text/plain": [
              "85.6"
            ]
          },
          "metadata": {},
          "execution_count": 24
        }
      ]
    },
    {
      "cell_type": "code",
      "source": [
        ""
      ],
      "metadata": {
        "id": "tG6StEKwIWhK"
      },
      "execution_count": null,
      "outputs": []
    }
  ]
}